{
 "cells": [
  {
   "cell_type": "code",
   "execution_count": 13,
   "metadata": {},
   "outputs": [],
   "source": [
    "import matplotlib.colors as mcolors\n",
    "import matplotlib.pyplot as plt\n",
    "import numpy as np\n",
    "from ipywidgets import Button, Checkbox, IntSlider, IntText, Play, interactive, jslink\n",
    "from sklearn.datasets import make_blobs"
   ]
  },
  {
   "cell_type": "code",
   "execution_count": 5,
   "metadata": {},
   "outputs": [
    {
     "data": {
      "application/vnd.jupyter.widget-view+json": {
       "model_id": "7dffac66b3664884a21627942dd41f9c",
       "version_major": 2,
       "version_minor": 0
      },
      "text/plain": [
       "interactive(children=(Checkbox(value=False, description='Show Cluster?'), Output()), _dom_classes=('widget-int…"
      ]
     },
     "execution_count": 5,
     "metadata": {},
     "output_type": "execute_result"
    }
   ],
   "source": [
    "X, y = make_blobs(\n",
    "    centers=4,\n",
    "    cluster_std=2,\n",
    "    random_state=42,\n",
    ")\n",
    "\n",
    "\n",
    "def _show(color: bool) -> None:\n",
    "    fig, ax = plt.subplots()\n",
    "    if color:\n",
    "        ax.scatter(X[:, 0], X[:, 1], c=y, marker=\".\")\n",
    "    else:\n",
    "        ax.scatter(X[:, 0], X[:, 1], marker=\".\")\n",
    "    ax.set(title=f\"Raw data {len(X):,}\")\n",
    "\n",
    "\n",
    "interactive(\n",
    "    _show,\n",
    "    color=Checkbox(False, description=\"Show Cluster?\"),\n",
    ")"
   ]
  },
  {
   "cell_type": "code",
   "execution_count": 14,
   "metadata": {},
   "outputs": [],
   "source": [
    "def kmeans_step(\n",
    "    data: np.ndarray,\n",
    "    current_centroids: np.ndarray,\n",
    ") -> tuple[np.ndarray, float, np.ndarray]:\n",
    "    n_points, n_dims = data.shape\n",
    "    k = len(current_centroids)\n",
    "\n",
    "    # take current centroids, and calculate full distances\n",
    "    sq_d = ((data[np.newaxis, :, :] - current_centroids[:, np.newaxis, :]) ** 2).sum(axis=-1)\n",
    "\n",
    "    # assign points to centroids based on distances\n",
    "    clusters = sq_d.argmin(axis=0)\n",
    "\n",
    "    # calculate new centroids\n",
    "    l = []\n",
    "    for _c in range(k):\n",
    "        mask = clusters == _c\n",
    "        if not np.any(mask):\n",
    "            cluster_centroid = current_centroids[_c]\n",
    "        else:\n",
    "            cluster_centroid = data[clusters == _c, :].mean(axis=0)\n",
    "        l.append(cluster_centroid)\n",
    "    new_centroids = np.array(l)\n",
    "\n",
    "    # calculate total movement of centroids and return that along with new positions\n",
    "    movement = np.linalg.norm(new_centroids - current_centroids)\n",
    "\n",
    "    return new_centroids, movement, clusters\n",
    "\n",
    "\n",
    "def kmeans_train(\n",
    "    k: int,\n",
    "    data: np.ndarray,\n",
    "    n_iter: int = 3,\n",
    "    random_state: int = 42,\n",
    ") -> tuple[np.ndarray, np.ndarray]:\n",
    "    rng = np.random.default_rng(random_state)\n",
    "\n",
    "    data_min = data.min(axis=0)\n",
    "    data_range = data.max(axis=0) - data_min\n",
    "    x = (data - data_min) / data_range\n",
    "\n",
    "    n_points, n_dims = x.shape\n",
    "    res_centers = np.zeros(shape=(n_iter, k, n_dims))\n",
    "    res_clusters = np.zeros(shape=(n_iter, n_points))\n",
    "\n",
    "    centers = rng.choice(x, k, replace=False, axis=0)\n",
    "    for i in range(n_iter):\n",
    "        new_centers, movement, clusters = kmeans_step(x, centers)\n",
    "        res_centers[i, ...] = centers\n",
    "        res_clusters[i, ...] = clusters\n",
    "        centers = new_centers\n",
    "    cents_orig = res_centers * data_range + data_min\n",
    "    return res_clusters, cents_orig\n",
    "\n",
    "\n",
    "def kmeans_predict(\n",
    "    data: np.ndarray,\n",
    "    centroids: np.ndarray,\n",
    ") -> np.ndarray:\n",
    "    n_points, n_dims = data.shape\n",
    "    k, n_dims2 = centroids.shape\n",
    "    assert n_dims == n_dims2\n",
    "\n",
    "    sq_d = ((data[np.newaxis, :, :] - centroids[:, np.newaxis, :]) ** 2).sum(axis=-1)\n",
    "\n",
    "    # assign points to centroids based on distances\n",
    "    clusters = sq_d.argmin(axis=0)\n",
    "\n",
    "    return clusters\n",
    "\n",
    "\n",
    "T = 20\n",
    "k = 4\n",
    "clusts, cents = kmeans_train(k, X, T)"
   ]
  },
  {
   "cell_type": "code",
   "execution_count": 27,
   "metadata": {},
   "outputs": [],
   "source": [
    "h = 0.01\n",
    "x_min, x_max = X[:, 0].min() - 0.1, X[:, 0].max() + 0.1\n",
    "y_min, y_max = X[:, 1].min() - 0.1, X[:, 1].max() + 0.1\n",
    "xx, yy = np.meshgrid(np.arange(x_min, x_max, h), np.arange(y_min, y_max, h))\n",
    "\n",
    "colors = [\"#1f77b4\", \"#ff7f0e\", \"#2ca02c\", \"#d62728\", \"#9467bd\"]\n",
    "cmap = mcolors.ListedColormap(colors)\n",
    "assert k <= len(colors)\n",
    "\n",
    "\n",
    "def simulate(t: int, boundary: bool) -> None:\n",
    "    cls = clusts[t, ...]\n",
    "    cs = cents[t, ...]\n",
    "\n",
    "    fig, ax = plt.subplots()\n",
    "\n",
    "    if boundary:\n",
    "        z = kmeans_predict(np.c_[xx.ravel(), yy.ravel()], cs)\n",
    "        z = z.reshape(xx.shape)\n",
    "        # ax.contourf(xx, yy, z, cmap=cmap, alpha=0.3)\n",
    "        ax.imshow(\n",
    "            z,\n",
    "            origin=\"lower\",\n",
    "            extent=(xx.min(), xx.max(), yy.min(), yy.max()),\n",
    "            cmap=cmap,\n",
    "            alpha=0.3,\n",
    "            interpolation=\"nearest\",\n",
    "        )\n",
    "        ax.set_aspect(\"auto\")\n",
    "\n",
    "    ax.scatter(X[:, 0], X[:, 1], c=cls, marker=\".\", cmap=cmap)\n",
    "    ax.scatter(cs[:, 0], cs[:, 1], color=\"black\", marker=\"o\")\n",
    "\n",
    "    ax.set(\n",
    "        title=t,\n",
    "    )"
   ]
  },
  {
   "cell_type": "markdown",
   "metadata": {},
   "source": [
    "If the initial centroids are badly placed, the algorithm will fail to converge to good clusters."
   ]
  },
  {
   "cell_type": "code",
   "execution_count": 29,
   "metadata": {},
   "outputs": [
    {
     "data": {
      "application/vnd.jupyter.widget-view+json": {
       "model_id": "10f8be4fa32e4c58b9c79bc52ff277ec",
       "version_major": 2,
       "version_minor": 0
      },
      "text/plain": [
       "IntSlider(value=0, max=19)"
      ]
     },
     "metadata": {},
     "output_type": "display_data"
    },
    {
     "data": {
      "application/vnd.jupyter.widget-view+json": {
       "model_id": "92f70925a08f4a25ac485521a1946e05",
       "version_major": 2,
       "version_minor": 0
      },
      "text/plain": [
       "interactive(children=(Play(value=0, description='t', interval=500, max=19), Checkbox(value=True, description='…"
      ]
     },
     "metadata": {},
     "output_type": "display_data"
    }
   ],
   "source": [
    "play = Play(value=0, min=0, max=T - 1, step=1, interval=500)\n",
    "slider = IntSlider(value=0, min=0, max=T - 1, step=1)\n",
    "jslink((play, \"value\"), (slider, \"value\"))\n",
    "w = interactive(\n",
    "    simulate,\n",
    "    t=play,\n",
    "    boundary=Checkbox(True, description=\"Show decision boundaries?\"),\n",
    ")\n",
    "display(slider, w)"
   ]
  },
  {
   "cell_type": "code",
   "execution_count": null,
   "metadata": {},
   "outputs": [],
   "source": []
  },
  {
   "cell_type": "code",
   "execution_count": null,
   "metadata": {},
   "outputs": [],
   "source": []
  },
  {
   "cell_type": "code",
   "execution_count": null,
   "metadata": {},
   "outputs": [],
   "source": []
  }
 ],
 "metadata": {
  "kernelspec": {
   "display_name": "default",
   "language": "python",
   "name": "python3"
  },
  "language_info": {
   "codemirror_mode": {
    "name": "ipython",
    "version": 3
   },
   "file_extension": ".py",
   "mimetype": "text/x-python",
   "name": "python",
   "nbconvert_exporter": "python",
   "pygments_lexer": "ipython3",
   "version": "3.13.3"
  }
 },
 "nbformat": 4,
 "nbformat_minor": 2
}
